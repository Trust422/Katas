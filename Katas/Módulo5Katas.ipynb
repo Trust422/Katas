{
 "cells": [
  {
   "cell_type": "markdown",
   "metadata": {},
   "source": [
    "# Distancia"
   ]
  },
  {
   "cell_type": "code",
   "execution_count": null,
   "metadata": {},
   "outputs": [],
   "source": [
    "#Crear variables para almacenar las dos distancias\n",
    "\n",
    "tierra = 149597870\n",
    "jupiter = 778547200 \n",
    "\n",
    "#Calcular la distancia entre planetas\n",
    "\n",
    "distancia = jupiter - tierra\n",
    "millas = distancia * 0.621\n",
    "millas = round(millas)\n",
    "\n",
    "distancias = \"\"\"\n",
    "La distancia (en kilometros) entre júpiter y la tierra es de: {distancia}\n",
    "La distancia (en millas) entre júpiter y la tierra es de: {millas}\n",
    "\"\"\"\n",
    "print(distancias.format(distancia = distancia, millas = millas))"
   ]
  },
  {
   "cell_type": "markdown",
   "metadata": {},
   "source": [
    "# Planeta\tDistancia al sol\n",
    "# Mercurio\t57900000\n",
    "# Venus\t108200000\n",
    "# Tierra\t149600000\n",
    "# Marte\t227900000\n",
    "# Júpiter\t778600000\n",
    "# Saturno\t1433500000\n",
    "# Urano\t2872500000\n",
    "# Neptuno\t4495100000"
   ]
  },
  {
   "cell_type": "code",
   "execution_count": 23,
   "metadata": {},
   "outputs": [
    {
     "name": "stdout",
     "output_type": "stream",
     "text": [
      "\n",
      "La distancia en kilometros entre el primer y el segundo planeta es de: 1439000000\n",
      "\n",
      "\n",
      "La distancia en millas entre el primer y el segundo planeta es de: 893619000.0\n",
      "\n"
     ]
    }
   ],
   "source": [
    "#Almacenar las entradas del usuario\n",
    "planeta1 = input(\"Por favor, introduzca la distancia entre el sol y el primer planeta (en kilometros): \")\n",
    "planeta2 = input(\"Por favor, introduzca la distancia entre el sol y el segundo planeta (en kilometros): \")\n",
    "\n",
    "#Convierte las cadenas de ambos planetas a números enteros\n",
    "planeta1 = int(planeta1)\n",
    "planeta2 = int(planeta2)\n",
    "\n",
    "#Realizar el cálculo y determinar el valor absoluto\n",
    "kilometros = planeta2 - planeta1\n",
    "kilometros = abs(kilometros)\n",
    "\n",
    "distancia1 = \"\"\"\n",
    "La distancia en kilometros entre el primer y el segundo planeta es de: {kilometros}\n",
    "\"\"\"\n",
    "print(distancia1.format(kilometros = kilometros))\n",
    "\n",
    "millas = kilometros * 0.621\n",
    "\n",
    "distancia2 = \"\"\"\n",
    "La distancia en millas entre el primer y el segundo planeta es de: {millas}\n",
    "\"\"\"\n",
    "print(distancia2.format(millas = millas))\n"
   ]
  }
 ],
 "metadata": {
  "interpreter": {
   "hash": "7aa24bf79be7674203509c6de8b19724a5e5d96aef261114787f7057f47e8850"
  },
  "kernelspec": {
   "display_name": "Python 3.9.6 64-bit",
   "language": "python",
   "name": "python3"
  },
  "language_info": {
   "codemirror_mode": {
    "name": "ipython",
    "version": 3
   },
   "file_extension": ".py",
   "mimetype": "text/x-python",
   "name": "python",
   "nbconvert_exporter": "python",
   "pygments_lexer": "ipython3",
   "version": "3.9.6"
  },
  "orig_nbformat": 4
 },
 "nbformat": 4,
 "nbformat_minor": 2
}
