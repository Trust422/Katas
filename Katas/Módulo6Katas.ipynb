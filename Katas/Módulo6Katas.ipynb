{
 "cells": [
  {
   "cell_type": "markdown",
   "metadata": {},
   "source": [
    "# Planetas"
   ]
  },
  {
   "cell_type": "code",
   "execution_count": null,
   "metadata": {},
   "outputs": [],
   "source": [
    "# Creamos la lista planets y la mostramos\n",
    "\n",
    "planets = [\"Mercurio\",\"Venus\",\"Tierra\",\"Marte\",\"Júpiter\",\"Saturno\",\"Urano\",\"Neptuno\"] \n",
    "\n",
    "for milkyway in planets:\n",
    "    print(milkyway)\n",
    "\n",
    "print('Hay', len(planets), 'planetas en la vía láctea')\n",
    "\n",
    "planets.append('Plutón')\n",
    "print(planets[-1], 'es el último planeta')\n"
   ]
  },
  {
   "cell_type": "code",
   "execution_count": 11,
   "metadata": {},
   "outputs": [
    {
     "name": "stdout",
     "output_type": "stream",
     "text": [
      "Los planetas mas cercanos al sol que 1 son: \n",
      "['Mercurio']\n",
      "Los planetas más lejanos al sol que 1 son: \n",
      "['Tierra', 'Marte', 'Júpiter', 'Saturno', 'Urano', 'Neptuno']\n"
     ]
    }
   ],
   "source": [
    "# Lista de planetas\n",
    "planets = [\"Mercurio\",\"Venus\",\"Tierra\",\"Marte\",\"Júpiter\",\"Saturno\",\"Urano\",\"Neptuno\"]\n",
    "\n",
    "# Solicitamos el nombre de un planeta\n",
    "name = input(\"Introduce el nombre de un planeta\")\n",
    "\n",
    "# Busca el planeta en la lista\n",
    "busqueda = planets.index(name)\n",
    "\n",
    "# Muestra los planetas más cercanos al sol\n",
    "print(\"Los planetas mas cercanos al sol que\" ,busqueda, \"son: \" )\n",
    "print(planets[0:busqueda])\n",
    "\n",
    "# Muestra los planetas más lejanos al sol\n",
    "\n",
    "print(\"Los planetas más lejanos al sol que\" ,busqueda, \"son: \")\n",
    "print(planets[busqueda + 1:])"
   ]
  }
 ],
 "metadata": {
  "interpreter": {
   "hash": "7aa24bf79be7674203509c6de8b19724a5e5d96aef261114787f7057f47e8850"
  },
  "kernelspec": {
   "display_name": "Python 3.9.6 64-bit",
   "language": "python",
   "name": "python3"
  },
  "language_info": {
   "codemirror_mode": {
    "name": "ipython",
    "version": 3
   },
   "file_extension": ".py",
   "mimetype": "text/x-python",
   "name": "python",
   "nbconvert_exporter": "python",
   "pygments_lexer": "ipython3",
   "version": "3.9.6"
  },
  "orig_nbformat": 4
 },
 "nbformat": 4,
 "nbformat_minor": 2
}
