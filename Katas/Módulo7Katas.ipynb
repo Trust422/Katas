{
 "cells": [
  {
   "cell_type": "code",
   "execution_count": 18,
   "metadata": {},
   "outputs": [
    {
     "name": "stdout",
     "output_type": "stream",
     "text": [
      "mercurio\n",
      "venus\n",
      "tierra\n",
      "marte\n"
     ]
    }
   ],
   "source": [
    "# Declara 2 variables\n",
    "\n",
    "new = ''\n",
    "planets = []\n",
    "\n",
    "# Escribe el ciclo while solicitado\n",
    "\n",
    "while new.lower() != 'done':\n",
    "    if new:\n",
    "        planets.append(new)\n",
    "    new = input('Agrega un planeta nuevo: ')\n",
    "\n",
    "for planet in planets:\n",
    "    print(planet)\n",
    "\n",
    "\n"
   ]
  }
 ],
 "metadata": {
  "interpreter": {
   "hash": "7aa24bf79be7674203509c6de8b19724a5e5d96aef261114787f7057f47e8850"
  },
  "kernelspec": {
   "display_name": "Python 3.9.6 64-bit",
   "language": "python",
   "name": "python3"
  },
  "language_info": {
   "codemirror_mode": {
    "name": "ipython",
    "version": 3
   },
   "file_extension": ".py",
   "mimetype": "text/x-python",
   "name": "python",
   "nbconvert_exporter": "python",
   "pygments_lexer": "ipython3",
   "version": "3.9.6"
  },
  "orig_nbformat": 4
 },
 "nbformat": 4,
 "nbformat_minor": 2
}
