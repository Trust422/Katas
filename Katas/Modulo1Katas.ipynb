{
 "cells": [
  {
   "cell_type": "markdown",
   "metadata": {},
   "source": [
    "# Calendario"
   ]
  },
  {
   "cell_type": "code",
   "execution_count": 50,
   "metadata": {},
   "outputs": [
    {
     "name": "stdout",
     "output_type": "stream",
     "text": [
      "Today's date is:  2022-02-17\n",
      "The time and today's date is:  2022-02-17 00:07:33.436490\n"
     ]
    }
   ],
   "source": [
    "from datetime import date \n",
    "\n",
    "\n",
    "print(\"Today's date is: \",str(date.today()))"
   ]
  },
  {
   "cell_type": "markdown",
   "metadata": {},
   "source": [
    "# Reloj"
   ]
  },
  {
   "cell_type": "code",
   "execution_count": 68,
   "metadata": {},
   "outputs": [
    {
     "name": "stdout",
     "output_type": "stream",
     "text": [
      "The time is:  00:30:46\n"
     ]
    }
   ],
   "source": [
    "import time\n",
    "now = time.strftime(\"%H:%M:%S\")\n",
    "\n",
    "print(\"The time is: \",now)"
   ]
  },
  {
   "cell_type": "markdown",
   "metadata": {},
   "source": [
    "# Calendario y reloj"
   ]
  },
  {
   "cell_type": "code",
   "execution_count": 74,
   "metadata": {},
   "outputs": [
    {
     "name": "stdout",
     "output_type": "stream",
     "text": [
      "The time and today's date is:  2022-02-17 00:33:51.973799\n"
     ]
    }
   ],
   "source": [
    "from datetime import date \n",
    "import datetime\n",
    "\n",
    "print(\"The time and today's date is: \",str(datetime.datetime.now()))"
   ]
  },
  {
   "cell_type": "markdown",
   "metadata": {},
   "source": [
    "# Convertidor de unidades "
   ]
  },
  {
   "cell_type": "code",
   "execution_count": 77,
   "metadata": {},
   "outputs": [
    {
     "name": "stdout",
     "output_type": "stream",
     "text": [
      "11 parsec, is 35.877159999999996 lightyears\n"
     ]
    }
   ],
   "source": [
    "parsec = 11\n",
    "\n",
    "lightyears = 3.26156 * parsec\n",
    "\n",
    "print(str(parsec) + \" parsec, is \" + str(lightyears) + \" lightyears\")"
   ]
  },
  {
   "cell_type": "markdown",
   "metadata": {},
   "source": [
    "# Extra"
   ]
  },
  {
   "cell_type": "code",
   "execution_count": 86,
   "metadata": {},
   "outputs": [
    {
     "name": "stdout",
     "output_type": "stream",
     "text": [
      "Error! Vuelve a intentarlo\n"
     ]
    }
   ],
   "source": [
    "opc = input(\"Elige la unidad a convertir: parsec(1) o lightyear(2): \")\n",
    "if opc == '1':\n",
    "    parsec = float(input(\"Introduce la cantidad de parsecs a convertir: \"))\n",
    "    lightyears = 3.26156 * parsec\n",
    "    print(str(parsec) + \" parsec, is \" + str(lightyears) + \" lightyears\")\n",
    "\n",
    "elif opc == '2':\n",
    "    lightyear = float(input(\"Introduce la cantidad de lightyears a convertir: \"))\n",
    "    parsec = lightyears / 3.26156\n",
    "    print(str(lightyears) + \" lightyears, is \" + str(parsec) + \" parsec\")\n",
    "else: \n",
    "    print(\"Error! Vuelve a intentarlo\")"
   ]
  }
 ],
 "metadata": {
  "interpreter": {
   "hash": "7aa24bf79be7674203509c6de8b19724a5e5d96aef261114787f7057f47e8850"
  },
  "kernelspec": {
   "display_name": "Python 3.9.6 64-bit",
   "language": "python",
   "name": "python3"
  },
  "language_info": {
   "codemirror_mode": {
    "name": "ipython",
    "version": 3
   },
   "file_extension": ".py",
   "mimetype": "text/x-python",
   "name": "python",
   "nbconvert_exporter": "python",
   "pygments_lexer": "ipython3",
   "version": "3.9.6"
  },
  "orig_nbformat": 4
 },
 "nbformat": 4,
 "nbformat_minor": 2
}
