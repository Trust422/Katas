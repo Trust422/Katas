{
 "cells": [
  {
   "cell_type": "markdown",
   "metadata": {},
   "source": [
    "# Moon"
   ]
  },
  {
   "cell_type": "code",
   "execution_count": null,
   "metadata": {},
   "outputs": [],
   "source": [
    "#Primero, divide el texto en cada oración para trabajar con su contenido:\n",
    "text = \"\"\"Interesting facts about the Moon. The Moon is Earth's only satellite. There are several interesting facts about the Moon and how it affects life here on Earth. \\n\",\n",
    "\"On average, the Moon moves 4cm away from the Earth every year. This yearly drift is not significant enough to cause immediate effects on Earth. The highest daylight temperature of the Moon is 127 C.\"\"\"\n",
    "\n",
    "#Separación de oraciones \n",
    "oraciones = text.split('. ')\n",
    "oraciones\n",
    "\n",
    "#Impresión de oraciones con palabras clave\n",
    "claves = [\"avarage\", \"temperature\", \"distance\"]\n",
    "\n",
    "for oracion in oraciones:\n",
    "    for claves in claves:\n",
    "        if claves in oracion:\n",
    "            print(oracion)\n",
    "            break\n",
    "\n",
    "for oracion in oraciones:\n",
    "    for claves in claves:\n",
    "        for claves in oracion:\n",
    "            print(oracion.replace('C','Celsius'))\n",
    "            break"
   ]
  },
  {
   "cell_type": "markdown",
   "metadata": {},
   "source": [
    "# Gravity"
   ]
  },
  {
   "cell_type": "code",
   "execution_count": 46,
   "metadata": {},
   "outputs": [
    {
     "name": "stdout",
     "output_type": "stream",
     "text": [
      "°°°°°°°°°°°°°°°°°°°°°°°°°°°°°°°°°°°°°°°°°°°°°°°°°°°°°°°°°°°°°°°°°°°°°°°°°°°°°°°° \n",
      "Gravity in Ganymede: 1.4300000000000002 m/s2 \n",
      "Planet: Mars \n",
      "\n",
      "°°°°°°°°°°°°°°°°°°°°°°°°°°°°°°°°°°°°°°°°°°°°°°°°°°°°°°°°°°°°°°°°°°°°°°°°°°°°°°°° \n",
      "Gravity in Ganymede: 1.4300000000000002 m/s2 \n",
      "Planet: Mars \n",
      "\n",
      "\n",
      "Gravity Facts about: Ganymede\n",
      "°°°°°°°°°°°°°°°°°°°°°°°°°°°°°°°°°°°°°°°°°°°°°°°°°°°°°°°°°°°°°°°°°°°°°°°°°°°°°°°°°°\n",
      "Planet : Mars \n",
      "Gravity in Ganymede: 0.00143 m/s2\n",
      "\n",
      "\n",
      "Gravity Facts about: Ganymede\n",
      "°°°°°°°°°°°°°°°°°°°°°°°°°°°°°°°°°°°°°°°°°°°°°°°°°°°°°°°°°°°°°°°°°°°°°°°°°°°°°°°°°°\n",
      "Planet : Mars \n",
      "Gravity in Ganymede: 1.4300000000000002 m/s2\n",
      "\n"
     ]
    }
   ],
   "source": [
    "#Datos con los que vas a trabajar\n",
    "name = \"Ganymede\"\n",
    "gravity = 0.00143 # in kms\n",
    "planet = \"Mars\"\n",
    "\n",
    "#Creación del título\n",
    "titulo = f'Gravity Facts about: {name}'\n",
    "\n",
    "#Plantilla\n",
    "separation = f\"\"\"{'°'*80} \n",
    "Gravity in {name}: {gravity * 1000} m/s2 \n",
    "Planet: {planet} \n",
    "\"\"\"\n",
    "\n",
    "# Unión de ambas cadenas\n",
    "plantilla = f\"\"\"{titulo.title()} \n",
    "{separation} \n",
    "\"\"\" \n",
    "print(separation)\n",
    "\n",
    "#Datos muestra:\n",
    "\n",
    "planet = 'Mars '\n",
    "gravity  = 0.00143\n",
    "name = 'Ganymede'\n",
    "\n",
    "#Comprobamos la plantilla\n",
    "print(separation)\n",
    "\n",
    "new_plantilla = \"\"\"\n",
    "Gravity Facts about: {name}\n",
    "°°°°°°°°°°°°°°°°°°°°°°°°°°°°°°°°°°°°°°°°°°°°°°°°°°°°°°°°°°°°°°°°°°°°°°°°°°°°°°°°°°\n",
    "Planet : {planet}\n",
    "Gravity in {name}: {gravity} m/s2\n",
    "\"\"\"\n",
    "print(new_plantilla.format(name=name, planet=planet, gravity=gravity))\n",
    "\n",
    "#Pista \n",
    "print(new_plantilla.format(name=name, planet=planet, gravity=gravity*1000))\n",
    "\n"
   ]
  }
 ],
 "metadata": {
  "interpreter": {
   "hash": "7aa24bf79be7674203509c6de8b19724a5e5d96aef261114787f7057f47e8850"
  },
  "kernelspec": {
   "display_name": "Python 3.9.6 64-bit",
   "language": "python",
   "name": "python3"
  },
  "language_info": {
   "codemirror_mode": {
    "name": "ipython",
    "version": 3
   },
   "file_extension": ".py",
   "mimetype": "text/x-python",
   "name": "python",
   "nbconvert_exporter": "python",
   "pygments_lexer": "ipython3",
   "version": "3.9.6"
  },
  "orig_nbformat": 4
 },
 "nbformat": 4,
 "nbformat_minor": 2
}
